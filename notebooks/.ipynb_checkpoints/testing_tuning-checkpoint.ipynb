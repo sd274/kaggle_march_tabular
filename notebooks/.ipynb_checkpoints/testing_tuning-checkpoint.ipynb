{
 "cells": [
  {
   "cell_type": "code",
   "execution_count": 1,
   "id": "hundred-access",
   "metadata": {},
   "outputs": [],
   "source": [
    "%load_ext autoreload\n",
    "%autoreload 2"
   ]
  },
  {
   "cell_type": "code",
   "execution_count": 2,
   "id": "juvenile-tribe",
   "metadata": {},
   "outputs": [],
   "source": [
    "import os\n",
    "import sys\n",
    "import pandas as pd\n",
    "import pipeline_tools as pt\n",
    "from sklearn.model_selection import train_test_split\n",
    "from sklearn.pipeline import Pipeline\n",
    "module_path = os.path.abspath(os.path.join('..'))\n",
    "if module_path not in sys.path:\n",
    "    sys.path.append(module_path)\n",
    "\n",
    "import kaggle_march_tabular as kmt"
   ]
  },
  {
   "cell_type": "markdown",
   "id": "happy-chile",
   "metadata": {},
   "source": [
    "# Load Data"
   ]
  },
  {
   "cell_type": "code",
   "execution_count": 3,
   "id": "suburban-shade",
   "metadata": {},
   "outputs": [],
   "source": [
    "train_dir = '../kaggle_march_tabular/tabular-playground-series-mar-2021/train.csv'\n",
    "\n",
    "df = pd.read_csv(train_dir)\n"
   ]
  },
  {
   "cell_type": "code",
   "execution_count": 4,
   "id": "contrary-approval",
   "metadata": {},
   "outputs": [],
   "source": [
    "cat_features = [f'cat{i}' for i in range(19)]\n",
    "num_features = [f'cont{i}' for i in range(11)]\n",
    "target = 'target'"
   ]
  },
  {
   "cell_type": "code",
   "execution_count": 5,
   "id": "equivalent-static",
   "metadata": {},
   "outputs": [],
   "source": [
    "X = df[cat_features + num_features]\n",
    "y = df[target]\n",
    "\n",
    "X_train, X_test, y_train, y_test = train_test_split(X, y, test_size=0.3, random_state=42)\n"
   ]
  },
  {
   "cell_type": "markdown",
   "id": "romantic-vacation",
   "metadata": {},
   "source": [
    "# Load the basline model config"
   ]
  },
  {
   "cell_type": "code",
   "execution_count": 6,
   "id": "electoral-observation",
   "metadata": {},
   "outputs": [],
   "source": [
    "config = kmt.src.TunedXGBModelConfig(load_model=False)"
   ]
  },
  {
   "cell_type": "code",
   "execution_count": 7,
   "id": "derived-listening",
   "metadata": {},
   "outputs": [
    {
     "name": "stderr",
     "output_type": "stream",
     "text": [
      "\u001b[32m[I 2021-03-09 11:58:31,397]\u001b[0m A new study created in memory with name: no-name-74edb484-7b28-4efb-aa71-c943f5531ec0\u001b[0m\n",
      "/Users/stuartday/opt/anaconda3/envs/kaggle_march_tab/lib/python3.8/site-packages/xgboost/sklearn.py:888: UserWarning: The use of label encoder in XGBClassifier is deprecated and will be removed in a future release. To remove this warning, do the following: 1) Pass option use_label_encoder=False when constructing XGBClassifier object; and 2) Encode your labels (y) as integers starting with 0, i.e. 0, 1, 2, ..., [num_class - 1].\n",
      "  warnings.warn(label_encoder_deprecation_msg, UserWarning)\n"
     ]
    },
    {
     "name": "stdout",
     "output_type": "stream",
     "text": [
      "[11:58:31] WARNING: /Users/travis/build/dmlc/xgboost/src/learner.cc:1061: Starting in XGBoost 1.3.0, the default evaluation metric used with the objective 'binary:logistic' was changed from 'error' to 'logloss'. Explicitly set eval_metric if you'd like to restore the old behavior.\n"
     ]
    },
    {
     "name": "stderr",
     "output_type": "stream",
     "text": [
      "\u001b[32m[I 2021-03-09 11:58:32,466]\u001b[0m Trial 0 finished with value: 0.5 and parameters: {'lambda': 0.02163993026306797, 'alpha': 0.14002014759870163, 'colsample_bytree': 0.7, 'subsample': 0.7, 'learning_rate': 0.003, 'max_depth': 7, 'random_state': 24, 'min_child_weight': 59}. Best is trial 0 with value: 0.5.\u001b[0m\n",
      "/Users/stuartday/opt/anaconda3/envs/kaggle_march_tab/lib/python3.8/site-packages/xgboost/sklearn.py:888: UserWarning: The use of label encoder in XGBClassifier is deprecated and will be removed in a future release. To remove this warning, do the following: 1) Pass option use_label_encoder=False when constructing XGBClassifier object; and 2) Encode your labels (y) as integers starting with 0, i.e. 0, 1, 2, ..., [num_class - 1].\n",
      "  warnings.warn(label_encoder_deprecation_msg, UserWarning)\n"
     ]
    },
    {
     "name": "stdout",
     "output_type": "stream",
     "text": [
      "[11:58:32] WARNING: /Users/travis/build/dmlc/xgboost/src/learner.cc:1061: Starting in XGBoost 1.3.0, the default evaluation metric used with the objective 'binary:logistic' was changed from 'error' to 'logloss'. Explicitly set eval_metric if you'd like to restore the old behavior.\n"
     ]
    },
    {
     "name": "stderr",
     "output_type": "stream",
     "text": [
      "\u001b[32m[I 2021-03-09 11:58:33,519]\u001b[0m Trial 1 finished with value: 0.5 and parameters: {'lambda': 0.1736361896497316, 'alpha': 0.023992145181783792, 'colsample_bytree': 0.8, 'subsample': 0.7, 'learning_rate': 0.003, 'max_depth': 9, 'random_state': 24, 'min_child_weight': 232}. Best is trial 0 with value: 0.5.\u001b[0m\n",
      "/Users/stuartday/opt/anaconda3/envs/kaggle_march_tab/lib/python3.8/site-packages/xgboost/sklearn.py:888: UserWarning: The use of label encoder in XGBClassifier is deprecated and will be removed in a future release. To remove this warning, do the following: 1) Pass option use_label_encoder=False when constructing XGBClassifier object; and 2) Encode your labels (y) as integers starting with 0, i.e. 0, 1, 2, ..., [num_class - 1].\n",
      "  warnings.warn(label_encoder_deprecation_msg, UserWarning)\n"
     ]
    },
    {
     "name": "stdout",
     "output_type": "stream",
     "text": [
      "[11:58:33] WARNING: /Users/travis/build/dmlc/xgboost/src/learner.cc:1061: Starting in XGBoost 1.3.0, the default evaluation metric used with the objective 'binary:logistic' was changed from 'error' to 'logloss'. Explicitly set eval_metric if you'd like to restore the old behavior.\n"
     ]
    },
    {
     "name": "stderr",
     "output_type": "stream",
     "text": [
      "\u001b[32m[I 2021-03-09 11:58:34,367]\u001b[0m Trial 2 finished with value: 0.5 and parameters: {'lambda': 0.001391804821712302, 'alpha': 0.01811488005960994, 'colsample_bytree': 0.4, 'subsample': 0.7, 'learning_rate': 0.6, 'max_depth': 7, 'random_state': 24, 'min_child_weight': 238}. Best is trial 0 with value: 0.5.\u001b[0m\n",
      "/Users/stuartday/opt/anaconda3/envs/kaggle_march_tab/lib/python3.8/site-packages/xgboost/sklearn.py:888: UserWarning: The use of label encoder in XGBClassifier is deprecated and will be removed in a future release. To remove this warning, do the following: 1) Pass option use_label_encoder=False when constructing XGBClassifier object; and 2) Encode your labels (y) as integers starting with 0, i.e. 0, 1, 2, ..., [num_class - 1].\n",
      "  warnings.warn(label_encoder_deprecation_msg, UserWarning)\n"
     ]
    },
    {
     "name": "stdout",
     "output_type": "stream",
     "text": [
      "[11:58:34] WARNING: /Users/travis/build/dmlc/xgboost/src/learner.cc:1061: Starting in XGBoost 1.3.0, the default evaluation metric used with the objective 'binary:logistic' was changed from 'error' to 'logloss'. Explicitly set eval_metric if you'd like to restore the old behavior.\n"
     ]
    },
    {
     "name": "stderr",
     "output_type": "stream",
     "text": [
      "\u001b[32m[I 2021-03-09 11:58:35,402]\u001b[0m Trial 3 finished with value: 0.5 and parameters: {'lambda': 0.0045109232995974875, 'alpha': 0.41756322542931884, 'colsample_bytree': 0.5, 'subsample': 0.8, 'learning_rate': 0.3, 'max_depth': 9, 'random_state': 24, 'min_child_weight': 166}. Best is trial 0 with value: 0.5.\u001b[0m\n",
      "/Users/stuartday/opt/anaconda3/envs/kaggle_march_tab/lib/python3.8/site-packages/xgboost/sklearn.py:888: UserWarning: The use of label encoder in XGBClassifier is deprecated and will be removed in a future release. To remove this warning, do the following: 1) Pass option use_label_encoder=False when constructing XGBClassifier object; and 2) Encode your labels (y) as integers starting with 0, i.e. 0, 1, 2, ..., [num_class - 1].\n",
      "  warnings.warn(label_encoder_deprecation_msg, UserWarning)\n"
     ]
    },
    {
     "name": "stdout",
     "output_type": "stream",
     "text": [
      "[11:58:35] WARNING: /Users/travis/build/dmlc/xgboost/src/learner.cc:1061: Starting in XGBoost 1.3.0, the default evaluation metric used with the objective 'binary:logistic' was changed from 'error' to 'logloss'. Explicitly set eval_metric if you'd like to restore the old behavior.\n"
     ]
    },
    {
     "name": "stderr",
     "output_type": "stream",
     "text": [
      "\u001b[32m[I 2021-03-09 11:58:36,324]\u001b[0m Trial 4 finished with value: 0.5 and parameters: {'lambda': 0.8137022698211674, 'alpha': 1.1015645925629651, 'colsample_bytree': 0.5, 'subsample': 0.5, 'learning_rate': 0.3, 'max_depth': 11, 'random_state': 24, 'min_child_weight': 241}. Best is trial 0 with value: 0.5.\u001b[0m\n"
     ]
    },
    {
     "data": {
      "text/html": [
       "<div>\n",
       "<style scoped>\n",
       "    .dataframe tbody tr th:only-of-type {\n",
       "        vertical-align: middle;\n",
       "    }\n",
       "\n",
       "    .dataframe tbody tr th {\n",
       "        vertical-align: top;\n",
       "    }\n",
       "\n",
       "    .dataframe thead th {\n",
       "        text-align: right;\n",
       "    }\n",
       "</style>\n",
       "<table border=\"1\" class=\"dataframe\">\n",
       "  <thead>\n",
       "    <tr style=\"text-align: right;\">\n",
       "      <th></th>\n",
       "      <th>timestamp</th>\n",
       "      <th>auc_score</th>\n",
       "      <th>fit_notes</th>\n",
       "      <th>save</th>\n",
       "      <th>best_params</th>\n",
       "    </tr>\n",
       "  </thead>\n",
       "  <tbody>\n",
       "    <tr>\n",
       "      <th>0</th>\n",
       "      <td>2021-03-09 11:58:36.366060</td>\n",
       "      <td>0.5</td>\n",
       "      <td>train test split state of 42</td>\n",
       "      <td>False</td>\n",
       "      <td>dict_items([('lambda', 0.02163993026306797), (...</td>\n",
       "    </tr>\n",
       "  </tbody>\n",
       "</table>\n",
       "</div>"
      ],
      "text/plain": [
       "                   timestamp  auc_score                     fit_notes   save  \\\n",
       "0 2021-03-09 11:58:36.366060        0.5  train test split state of 42  False   \n",
       "\n",
       "                                         best_params  \n",
       "0  dict_items([('lambda', 0.02163993026306797), (...  "
      ]
     },
     "execution_count": 7,
     "metadata": {},
     "output_type": "execute_result"
    }
   ],
   "source": [
    "config.fit_model(X_train, y_train, save=False, fit_notes='train test split state of 42')"
   ]
  },
  {
   "cell_type": "code",
   "execution_count": 8,
   "id": "regular-screening",
   "metadata": {},
   "outputs": [
    {
     "data": {
      "text/html": [
       "<div>\n",
       "<style scoped>\n",
       "    .dataframe tbody tr th:only-of-type {\n",
       "        vertical-align: middle;\n",
       "    }\n",
       "\n",
       "    .dataframe tbody tr th {\n",
       "        vertical-align: top;\n",
       "    }\n",
       "\n",
       "    .dataframe thead th {\n",
       "        text-align: right;\n",
       "    }\n",
       "</style>\n",
       "<table border=\"1\" class=\"dataframe\">\n",
       "  <thead>\n",
       "    <tr style=\"text-align: right;\">\n",
       "      <th></th>\n",
       "      <th>validation_name</th>\n",
       "      <th>timestamp</th>\n",
       "      <th>accuracy</th>\n",
       "      <th>score</th>\n",
       "    </tr>\n",
       "  </thead>\n",
       "  <tbody>\n",
       "    <tr>\n",
       "      <th>0</th>\n",
       "      <td>testing model works with a small amount of data</td>\n",
       "      <td>2021-03-09 11:58:36.475478</td>\n",
       "      <td>0.726667</td>\n",
       "      <td>0.5</td>\n",
       "    </tr>\n",
       "  </tbody>\n",
       "</table>\n",
       "</div>"
      ],
      "text/plain": [
       "                                   validation_name                  timestamp  \\\n",
       "0  testing model works with a small amount of data 2021-03-09 11:58:36.475478   \n",
       "\n",
       "   accuracy  score  \n",
       "0  0.726667    0.5  "
      ]
     },
     "execution_count": 8,
     "metadata": {},
     "output_type": "execute_result"
    }
   ],
   "source": [
    "config.validate_model(X_test, y_test, validation_name='testing model works with a small amount of data')"
   ]
  },
  {
   "cell_type": "code",
   "execution_count": 9,
   "id": "controlling-sitting",
   "metadata": {},
   "outputs": [
    {
     "data": {
      "text/plain": [
       "\"{'a': 1, 'b': 22}\""
      ]
     },
     "execution_count": 9,
     "metadata": {},
     "output_type": "execute_result"
    }
   ],
   "source": [
    "str({'a':1, 'b':22})"
   ]
  }
 ],
 "metadata": {
  "kernelspec": {
   "display_name": "Python 3",
   "language": "python",
   "name": "python3"
  },
  "language_info": {
   "codemirror_mode": {
    "name": "ipython",
    "version": 3
   },
   "file_extension": ".py",
   "mimetype": "text/x-python",
   "name": "python",
   "nbconvert_exporter": "python",
   "pygments_lexer": "ipython3",
   "version": "3.8.8"
  }
 },
 "nbformat": 4,
 "nbformat_minor": 5
}
