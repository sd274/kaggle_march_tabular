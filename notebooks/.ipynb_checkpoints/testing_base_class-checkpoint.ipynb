{
 "cells": [
  {
   "cell_type": "code",
   "execution_count": 1,
   "id": "consolidated-immunology",
   "metadata": {},
   "outputs": [],
   "source": [
    "%load_ext autoreload\n",
    "%autoreload 2"
   ]
  },
  {
   "cell_type": "code",
   "execution_count": 2,
   "id": "cardiac-heather",
   "metadata": {},
   "outputs": [],
   "source": [
    "import os\n",
    "import sys\n",
    "import pandas as pd\n",
    "import pipeline_tools as pt\n",
    "from sklearn.model_selection import train_test_split\n",
    "from sklearn.pipeline import Pipeline\n",
    "module_path = os.path.abspath(os.path.join('..'))\n",
    "if module_path not in sys.path:\n",
    "    sys.path.append(module_path)\n",
    "\n",
    "import kaggle_march_tabular as kmt"
   ]
  },
  {
   "cell_type": "markdown",
   "id": "minute-scholarship",
   "metadata": {},
   "source": [
    "# Load Data"
   ]
  },
  {
   "cell_type": "code",
   "execution_count": 3,
   "id": "weekly-jersey",
   "metadata": {},
   "outputs": [],
   "source": [
    "train_dir = '../kaggle_march_tabular/tabular-playground-series-mar-2021/train.csv'\n",
    "\n",
    "df = pd.read_csv(train_dir).head(1000)\n"
   ]
  },
  {
   "cell_type": "code",
   "execution_count": 4,
   "id": "beginning-times",
   "metadata": {},
   "outputs": [],
   "source": [
    "cat_features = [f'cat{i}' for i in range(19)]\n",
    "num_features = [f'cont{i}' for i in range(11)]\n",
    "target = 'target'"
   ]
  },
  {
   "cell_type": "code",
   "execution_count": 5,
   "id": "solved-courage",
   "metadata": {},
   "outputs": [],
   "source": [
    "X = df[cat_features + num_features]\n",
    "y = df[target]\n",
    "\n",
    "X_train, X_test, y_train, y_test = train_test_split(X, y, test_size=0.3, random_state=42)\n"
   ]
  },
  {
   "cell_type": "markdown",
   "id": "korean-robert",
   "metadata": {},
   "source": [
    "# Load the basline model config"
   ]
  },
  {
   "cell_type": "code",
   "execution_count": 6,
   "id": "amino-exposure",
   "metadata": {},
   "outputs": [],
   "source": [
    "config = kmt.src.BaseLineModelConfig(load_model=False)"
   ]
  },
  {
   "cell_type": "code",
   "execution_count": 7,
   "id": "loved-pharmaceutical",
   "metadata": {},
   "outputs": [
    {
     "name": "stderr",
     "output_type": "stream",
     "text": [
      "/Users/stuartday/opt/anaconda3/envs/kaggle_march_tab/lib/python3.8/site-packages/xgboost/sklearn.py:888: UserWarning: The use of label encoder in XGBClassifier is deprecated and will be removed in a future release. To remove this warning, do the following: 1) Pass option use_label_encoder=False when constructing XGBClassifier object; and 2) Encode your labels (y) as integers starting with 0, i.e. 0, 1, 2, ..., [num_class - 1].\n",
      "  warnings.warn(label_encoder_deprecation_msg, UserWarning)\n"
     ]
    },
    {
     "name": "stdout",
     "output_type": "stream",
     "text": [
      "[11:46:38] WARNING: /Users/travis/build/dmlc/xgboost/src/learner.cc:1061: Starting in XGBoost 1.3.0, the default evaluation metric used with the objective 'binary:logistic' was changed from 'error' to 'logloss'. Explicitly set eval_metric if you'd like to restore the old behavior.\n"
     ]
    }
   ],
   "source": [
    "config.fit_model(X_train, y_train, save=False, fit_notes='train test split state of 42')"
   ]
  },
  {
   "cell_type": "code",
   "execution_count": 8,
   "id": "guided-cyprus",
   "metadata": {},
   "outputs": [
    {
     "data": {
      "text/html": [
       "<div>\n",
       "<style scoped>\n",
       "    .dataframe tbody tr th:only-of-type {\n",
       "        vertical-align: middle;\n",
       "    }\n",
       "\n",
       "    .dataframe tbody tr th {\n",
       "        vertical-align: top;\n",
       "    }\n",
       "\n",
       "    .dataframe thead th {\n",
       "        text-align: right;\n",
       "    }\n",
       "</style>\n",
       "<table border=\"1\" class=\"dataframe\">\n",
       "  <thead>\n",
       "    <tr style=\"text-align: right;\">\n",
       "      <th></th>\n",
       "      <th>validation_name</th>\n",
       "      <th>timestamp</th>\n",
       "      <th>accuracy</th>\n",
       "      <th>score</th>\n",
       "    </tr>\n",
       "  </thead>\n",
       "  <tbody>\n",
       "    <tr>\n",
       "      <th>0</th>\n",
       "      <td>testing model works with a small amount of data</td>\n",
       "      <td>2021-03-09 11:46:38.857818</td>\n",
       "      <td>0.8</td>\n",
       "      <td>0.841184</td>\n",
       "    </tr>\n",
       "  </tbody>\n",
       "</table>\n",
       "</div>"
      ],
      "text/plain": [
       "                                   validation_name                  timestamp  \\\n",
       "0  testing model works with a small amount of data 2021-03-09 11:46:38.857818   \n",
       "\n",
       "   accuracy     score  \n",
       "0       0.8  0.841184  "
      ]
     },
     "execution_count": 8,
     "metadata": {},
     "output_type": "execute_result"
    }
   ],
   "source": [
    "config.validate_model(X_test, y_test, validation_name='testing model works with a small amount of data')"
   ]
  },
  {
   "cell_type": "code",
   "execution_count": 9,
   "id": "blocked-calcium",
   "metadata": {},
   "outputs": [
    {
     "data": {
      "text/plain": [
       "\"{'a': 1, 'b': 22}\""
      ]
     },
     "execution_count": 9,
     "metadata": {},
     "output_type": "execute_result"
    }
   ],
   "source": [
    "str({'a':1, 'b':22})"
   ]
  },
  {
   "cell_type": "code",
   "execution_count": 4,
   "id": "stunning-relation",
   "metadata": {},
   "outputs": [
    {
     "data": {
      "text/plain": [
       "'202103091730'"
      ]
     },
     "execution_count": 4,
     "metadata": {},
     "output_type": "execute_result"
    }
   ],
   "source": [
    "from datetime import datetime\n",
    "\n",
    "datetime.today().strftime('%Y%m%d%H%M')"
   ]
  }
 ],
 "metadata": {
  "kernelspec": {
   "display_name": "Python 3",
   "language": "python",
   "name": "python3"
  },
  "language_info": {
   "codemirror_mode": {
    "name": "ipython",
    "version": 3
   },
   "file_extension": ".py",
   "mimetype": "text/x-python",
   "name": "python",
   "nbconvert_exporter": "python",
   "pygments_lexer": "ipython3",
   "version": "3.8.8"
  }
 },
 "nbformat": 4,
 "nbformat_minor": 5
}
