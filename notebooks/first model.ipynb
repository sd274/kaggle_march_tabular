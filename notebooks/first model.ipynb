{
 "cells": [
  {
   "cell_type": "markdown",
   "id": "ecological-corrections",
   "metadata": {},
   "source": [
    "# Basic First Model to Set a B"
   ]
  },
  {
   "cell_type": "code",
   "execution_count": 1,
   "id": "usual-native",
   "metadata": {},
   "outputs": [],
   "source": [
    "import numpy as np # linear algebra\n",
    "import pandas as pd # data processing, CSV file I/O (e.g. pd.read_csv)\n",
    "import os\n",
    "from sklearn.model_selection import train_test_split\n",
    "from sklearn.pipeline import Pipeline\n",
    "from sklearn import metrics\n",
    "import pipeline_tools as pt\n",
    "import xgboost as xgb"
   ]
  },
  {
   "cell_type": "markdown",
   "id": "floppy-spouse",
   "metadata": {},
   "source": [
    "# Load Train Data"
   ]
  },
  {
   "cell_type": "code",
   "execution_count": 2,
   "id": "blank-program",
   "metadata": {},
   "outputs": [],
   "source": [
    "train_dir = '../tabular-playground-series-mar-2021/train.csv'\n",
    "\n",
    "df = pd.read_csv(train_dir)\n"
   ]
  },
  {
   "cell_type": "code",
   "execution_count": 3,
   "id": "heated-limitation",
   "metadata": {},
   "outputs": [],
   "source": [
    "cat_features = [f'cat{i}' for i in range(19)]\n",
    "num_features = [f'cont{i}' for i in range(11)]\n",
    "target = 'target'"
   ]
  },
  {
   "cell_type": "markdown",
   "id": "bearing-chapel",
   "metadata": {},
   "source": [
    "# Build and Fit the pipe"
   ]
  },
  {
   "cell_type": "code",
   "execution_count": 4,
   "id": "split-confidentiality",
   "metadata": {},
   "outputs": [],
   "source": [
    "X = df[cat_features + num_features]\n",
    "y = df[target]\n",
    "\n",
    "X_train, X_test, y_train, y_test = train_test_split(X, y, test_size=0.3)\n"
   ]
  },
  {
   "cell_type": "code",
   "execution_count": 5,
   "id": "female-freeware",
   "metadata": {},
   "outputs": [],
   "source": [
    "pre_pipe = pt.standard_preprocessing_pipe(num_features=num_features, cat_features=cat_features)\n",
    "\n",
    "pipe = Pipeline([\n",
    "    ('pre_pipe', pre_pipe),\n",
    "    ('learn', xgb.XGBClassifier())\n",
    "])"
   ]
  },
  {
   "cell_type": "code",
   "execution_count": null,
   "id": "supreme-graduate",
   "metadata": {},
   "outputs": [
    {
     "name": "stderr",
     "output_type": "stream",
     "text": [
      "/Users/stuartday/opt/anaconda3/envs/kaggle_march_tab/lib/python3.8/site-packages/xgboost/sklearn.py:888: UserWarning: The use of label encoder in XGBClassifier is deprecated and will be removed in a future release. To remove this warning, do the following: 1) Pass option use_label_encoder=False when constructing XGBClassifier object; and 2) Encode your labels (y) as integers starting with 0, i.e. 0, 1, 2, ..., [num_class - 1].\n",
      "  warnings.warn(label_encoder_deprecation_msg, UserWarning)\n"
     ]
    },
    {
     "name": "stdout",
     "output_type": "stream",
     "text": [
      "[22:59:54] WARNING: /Users/travis/build/dmlc/xgboost/src/learner.cc:1061: Starting in XGBoost 1.3.0, the default evaluation metric used with the objective 'binary:logistic' was changed from 'error' to 'logloss'. Explicitly set eval_metric if you'd like to restore the old behavior.\n"
     ]
    }
   ],
   "source": [
    "pipe.fit(X_train, y_train)"
   ]
  },
  {
   "cell_type": "markdown",
   "id": "going-destruction",
   "metadata": {},
   "source": [
    "# Score our model"
   ]
  },
  {
   "cell_type": "code",
   "execution_count": null,
   "id": "spanish-colleague",
   "metadata": {},
   "outputs": [],
   "source": [
    "test_prediction = pipe.predict_proba(X_test)[:,1]\n",
    "\n",
    "predictions = pipe.predict(X_test)\n",
    "\n",
    "score = metrics.roc_auc_score(y_test, test_prediction)\n",
    "accuracy = metrics.accuracy_score(y_test, predictions)\n",
    "\n",
    "print(f'Area under ROC of Model On Test Set - {score:,.2%}')\n",
    "print(f'Accuracy - {accuracy:,.2%}')"
   ]
  },
  {
   "cell_type": "markdown",
   "id": "subsequent-shower",
   "metadata": {},
   "source": [
    "# Prepare Submission"
   ]
  },
  {
   "cell_type": "code",
   "execution_count": null,
   "id": "single-prophet",
   "metadata": {},
   "outputs": [],
   "source": [
    "test_dir = '../tabular-playground-series-mar-2021/test.csv'\n",
    "\n",
    "\n",
    "df_test = pd.read_csv(test_dir)"
   ]
  },
  {
   "cell_type": "code",
   "execution_count": null,
   "id": "generous-status",
   "metadata": {},
   "outputs": [],
   "source": [
    "df_test['target'] = pipe.predict(df_test[cat_features + num_features])"
   ]
  },
  {
   "cell_type": "code",
   "execution_count": null,
   "id": "harmful-tower",
   "metadata": {},
   "outputs": [],
   "source": [
    "# df_test[['id', 'target']].to_csv('submission.csv', index=False)"
   ]
  }
 ],
 "metadata": {
  "kernelspec": {
   "display_name": "Python 3",
   "language": "python",
   "name": "python3"
  },
  "language_info": {
   "codemirror_mode": {
    "name": "ipython",
    "version": 3
   },
   "file_extension": ".py",
   "mimetype": "text/x-python",
   "name": "python",
   "nbconvert_exporter": "python",
   "pygments_lexer": "ipython3",
   "version": "3.8.8"
  }
 },
 "nbformat": 4,
 "nbformat_minor": 5
}
