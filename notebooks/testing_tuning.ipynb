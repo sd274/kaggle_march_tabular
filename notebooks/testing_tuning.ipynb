{
 "cells": [
  {
   "cell_type": "code",
   "execution_count": 1,
   "id": "hundred-access",
   "metadata": {},
   "outputs": [],
   "source": [
    "%load_ext autoreload\n",
    "%autoreload 2"
   ]
  },
  {
   "cell_type": "code",
   "execution_count": 2,
   "id": "juvenile-tribe",
   "metadata": {},
   "outputs": [],
   "source": [
    "import os\n",
    "import sys\n",
    "import pandas as pd\n",
    "import pipeline_tools as pt\n",
    "from sklearn.model_selection import train_test_split\n",
    "from sklearn.pipeline import Pipeline\n",
    "module_path = os.path.abspath(os.path.join('..'))\n",
    "if module_path not in sys.path:\n",
    "    sys.path.append(module_path)\n",
    "\n",
    "import kaggle_march_tabular as kmt"
   ]
  },
  {
   "cell_type": "markdown",
   "id": "happy-chile",
   "metadata": {},
   "source": [
    "# Load Data"
   ]
  },
  {
   "cell_type": "code",
   "execution_count": 3,
   "id": "suburban-shade",
   "metadata": {},
   "outputs": [],
   "source": [
    "train_dir = '../kaggle_march_tabular/tabular-playground-series-mar-2021/train.csv'\n",
    "\n",
    "df = pd.read_csv(train_dir)\n"
   ]
  },
  {
   "cell_type": "code",
   "execution_count": 4,
   "id": "contrary-approval",
   "metadata": {},
   "outputs": [],
   "source": [
    "cat_features = [f'cat{i}' for i in range(19)]\n",
    "num_features = [f'cont{i}' for i in range(11)]\n",
    "target = 'target'"
   ]
  },
  {
   "cell_type": "code",
   "execution_count": 5,
   "id": "equivalent-static",
   "metadata": {},
   "outputs": [],
   "source": [
    "X = df[cat_features + num_features]\n",
    "y = df[target]\n",
    "\n",
    "X_train, X_test, y_train, y_test = train_test_split(X, y, test_size=0.3, random_state=42)\n"
   ]
  },
  {
   "cell_type": "markdown",
   "id": "romantic-vacation",
   "metadata": {},
   "source": [
    "# Load the basline model config"
   ]
  },
  {
   "cell_type": "code",
   "execution_count": 6,
   "id": "electoral-observation",
   "metadata": {},
   "outputs": [],
   "source": [
    "config = kmt.src.TunedXGBModelConfig(load_model=False)"
   ]
  },
  {
   "cell_type": "code",
   "execution_count": null,
   "id": "derived-listening",
   "metadata": {},
   "outputs": [
    {
     "name": "stderr",
     "output_type": "stream",
     "text": [
      "\u001b[32m[I 2021-03-09 11:59:12,550]\u001b[0m A new study created in memory with name: no-name-97da3c2a-d697-41e4-9cb4-c19671d8a43d\u001b[0m\n",
      "/Users/stuartday/opt/anaconda3/envs/kaggle_march_tab/lib/python3.8/site-packages/xgboost/sklearn.py:888: UserWarning: The use of label encoder in XGBClassifier is deprecated and will be removed in a future release. To remove this warning, do the following: 1) Pass option use_label_encoder=False when constructing XGBClassifier object; and 2) Encode your labels (y) as integers starting with 0, i.e. 0, 1, 2, ..., [num_class - 1].\n",
      "  warnings.warn(label_encoder_deprecation_msg, UserWarning)\n"
     ]
    },
    {
     "name": "stdout",
     "output_type": "stream",
     "text": [
      "[11:59:21] WARNING: /Users/travis/build/dmlc/xgboost/src/learner.cc:1061: Starting in XGBoost 1.3.0, the default evaluation metric used with the objective 'binary:logistic' was changed from 'error' to 'logloss'. Explicitly set eval_metric if you'd like to restore the old behavior.\n"
     ]
    },
    {
     "name": "stderr",
     "output_type": "stream",
     "text": [
      "\u001b[32m[I 2021-03-09 12:26:15,244]\u001b[0m Trial 0 finished with value: 0.8724970757352392 and parameters: {'lambda': 0.0012783278460493487, 'alpha': 0.4749594264233269, 'colsample_bytree': 0.7, 'subsample': 0.8, 'learning_rate': 0.003, 'max_depth': 5, 'random_state': 48, 'min_child_weight': 38}. Best is trial 0 with value: 0.8724970757352392.\u001b[0m\n",
      "/Users/stuartday/opt/anaconda3/envs/kaggle_march_tab/lib/python3.8/site-packages/xgboost/sklearn.py:888: UserWarning: The use of label encoder in XGBClassifier is deprecated and will be removed in a future release. To remove this warning, do the following: 1) Pass option use_label_encoder=False when constructing XGBClassifier object; and 2) Encode your labels (y) as integers starting with 0, i.e. 0, 1, 2, ..., [num_class - 1].\n",
      "  warnings.warn(label_encoder_deprecation_msg, UserWarning)\n"
     ]
    },
    {
     "name": "stdout",
     "output_type": "stream",
     "text": [
      "[12:26:27] WARNING: /Users/travis/build/dmlc/xgboost/src/learner.cc:1061: Starting in XGBoost 1.3.0, the default evaluation metric used with the objective 'binary:logistic' was changed from 'error' to 'logloss'. Explicitly set eval_metric if you'd like to restore the old behavior.\n"
     ]
    },
    {
     "name": "stderr",
     "output_type": "stream",
     "text": [
      "\u001b[32m[I 2021-03-09 16:55:52,799]\u001b[0m Trial 1 finished with value: 0.8884864898086208 and parameters: {'lambda': 0.23201643253622475, 'alpha': 0.38841802378167417, 'colsample_bytree': 1.0, 'subsample': 1.0, 'learning_rate': 0.03, 'max_depth': 9, 'random_state': 2020, 'min_child_weight': 98}. Best is trial 0 with value: 0.8724970757352392.\u001b[0m\n",
      "/Users/stuartday/opt/anaconda3/envs/kaggle_march_tab/lib/python3.8/site-packages/xgboost/sklearn.py:888: UserWarning: The use of label encoder in XGBClassifier is deprecated and will be removed in a future release. To remove this warning, do the following: 1) Pass option use_label_encoder=False when constructing XGBClassifier object; and 2) Encode your labels (y) as integers starting with 0, i.e. 0, 1, 2, ..., [num_class - 1].\n",
      "  warnings.warn(label_encoder_deprecation_msg, UserWarning)\n"
     ]
    },
    {
     "name": "stdout",
     "output_type": "stream",
     "text": [
      "[16:56:13] WARNING: /Users/travis/build/dmlc/xgboost/src/learner.cc:1061: Starting in XGBoost 1.3.0, the default evaluation metric used with the objective 'binary:logistic' was changed from 'error' to 'logloss'. Explicitly set eval_metric if you'd like to restore the old behavior.\n"
     ]
    }
   ],
   "source": [
    "config.fit_model(X_train, y_train, save=False, fit_notes='train test split state of 42')"
   ]
  },
  {
   "cell_type": "code",
   "execution_count": null,
   "id": "regular-screening",
   "metadata": {},
   "outputs": [],
   "source": [
    "config.validate_model(X_test, y_test, validation_name='testing model works with a small amount of data')"
   ]
  },
  {
   "cell_type": "code",
   "execution_count": null,
   "id": "controlling-sitting",
   "metadata": {},
   "outputs": [],
   "source": [
    "str({'a':1, 'b':22})"
   ]
  }
 ],
 "metadata": {
  "kernelspec": {
   "display_name": "Python 3",
   "language": "python",
   "name": "python3"
  },
  "language_info": {
   "codemirror_mode": {
    "name": "ipython",
    "version": 3
   },
   "file_extension": ".py",
   "mimetype": "text/x-python",
   "name": "python",
   "nbconvert_exporter": "python",
   "pygments_lexer": "ipython3",
   "version": "3.8.8"
  }
 },
 "nbformat": 4,
 "nbformat_minor": 5
}
